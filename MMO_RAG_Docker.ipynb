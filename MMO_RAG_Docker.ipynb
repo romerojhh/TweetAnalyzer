{
 "cells": [
  {
   "cell_type": "markdown",
   "metadata": {},
   "source": [
    "This version uses Milvus through Docker Compose so you must have Docker installed to run this notebook (Milvus is spun up via `docker compose up -d` as shown in the block below)"
   ]
  },
  {
   "cell_type": "code",
   "execution_count": 51,
   "metadata": {},
   "outputs": [],
   "source": [
    "# ! pip install pymilvus milvus langchain sentence-transformers tiktoken octoai-sdk\n",
    "# docker compose up -d"
   ]
  },
  {
   "cell_type": "code",
   "execution_count": 52,
   "metadata": {},
   "outputs": [],
   "source": [
    "from langchain.chains import LLMChain\n",
    "from langchain.prompts import PromptTemplate\n",
    "from langchain_community.llms.octoai_endpoint import OctoAIEndpoint"
   ]
  },
  {
   "cell_type": "code",
   "execution_count": 53,
   "metadata": {},
   "outputs": [],
   "source": [
    "from dotenv import load_dotenv\n",
    "import os\n",
    "\n",
    "load_dotenv()\n",
    "\n",
    "OCTOAI_API_TOKEN = os.environ.get(\"OCTOAI_API_TOKEN\")\n",
    "\n",
    "os.environ[\"OCTOAI_API_TOKEN\"] = os.getenv(\"OCTOAI_API_TOKEN\")"
   ]
  },
  {
   "cell_type": "code",
   "execution_count": 54,
   "metadata": {},
   "outputs": [],
   "source": [
    "template = \"\"\"Below is an instruction that describes a task. Write a response that appropriately completes the request.\\n Instruction:\\n{question}\\n Response: \"\"\"\n",
    "prompt = PromptTemplate.from_template(template)"
   ]
  },
  {
   "cell_type": "code",
   "execution_count": 55,
   "metadata": {},
   "outputs": [],
   "source": [
    "llm = OctoAIEndpoint(\n",
    "    endpoint_url=\"https://text.octoai.run/v1/chat/completions\",\n",
    "    model_kwargs={\n",
    "        \"model\": \"mixtral-8x7b-instruct-fp16\",\n",
    "        \"max_tokens\": 128,\n",
    "        \"presence_penalty\": 0,\n",
    "        \"temperature\": 0.01,\n",
    "        \"top_p\": 0.9,\n",
    "        \"messages\": [\n",
    "            {\n",
    "                \"role\": \"system\",\n",
    "                \"content\": \"You are a helpful twitter analyzer assistant. Keep your responses limited to one short paragraph if possible.\",\n",
    "            },\n",
    "        ],\n",
    "    },\n",
    ")"
   ]
  },
  {
   "cell_type": "code",
   "execution_count": 56,
   "metadata": {},
   "outputs": [
    {
     "name": "stdout",
     "output_type": "stream",
     "text": [
      " \"Exciting to see @elonmusk pushing boundaries yet again with his latest innovation. The future of technology is looking brighter than ever! #ElonMusk #Innovation #FutureTechnology\"\n"
     ]
    }
   ],
   "source": [
    "question = \"Give me a tweet about elon musk\"\n",
    "\n",
    "llm_chain = LLMChain(prompt=prompt, llm=llm)\n",
    "\n",
    "print(llm_chain.invoke(question)[\"text\"])"
   ]
  },
  {
   "cell_type": "code",
   "execution_count": 57,
   "metadata": {},
   "outputs": [],
   "source": [
    "from langchain_community.embeddings import OctoAIEmbeddings\n",
    "from langchain_community.vectorstores import Milvus"
   ]
  },
  {
   "cell_type": "code",
   "execution_count": 58,
   "metadata": {},
   "outputs": [],
   "source": [
    "embeddings = OctoAIEmbeddings(endpoint_url=\"https://text.octoai.run/v1/embeddings\")"
   ]
  },
  {
   "cell_type": "code",
   "execution_count": 59,
   "metadata": {},
   "outputs": [],
   "source": [
    "from langchain.text_splitter import CharacterTextSplitter\n",
    "from langchain.schema import Document\n",
    "import os"
   ]
  },
  {
   "cell_type": "code",
   "execution_count": 60,
   "metadata": {},
   "outputs": [],
   "source": [
    "files = os.listdir(\"./data\")"
   ]
  },
  {
   "cell_type": "code",
   "execution_count": 61,
   "metadata": {},
   "outputs": [],
   "source": [
    "file_texts = []"
   ]
  },
  {
   "cell_type": "code",
   "execution_count": 62,
   "metadata": {},
   "outputs": [
    {
     "name": "stderr",
     "output_type": "stream",
     "text": [
      "Created a chunk of size 1248, which is longer than the specified 1024\n",
      "Created a chunk of size 1251, which is longer than the specified 1024\n",
      "Created a chunk of size 1094, which is longer than the specified 1024\n",
      "Created a chunk of size 2223, which is longer than the specified 1024\n",
      "Created a chunk of size 1212, which is longer than the specified 1024\n",
      "Created a chunk of size 1068, which is longer than the specified 1024\n",
      "Created a chunk of size 2034, which is longer than the specified 1024\n",
      "Created a chunk of size 1256, which is longer than the specified 1024\n",
      "Created a chunk of size 1089, which is longer than the specified 1024\n",
      "Created a chunk of size 1101, which is longer than the specified 1024\n",
      "Created a chunk of size 1539, which is longer than the specified 1024\n",
      "Created a chunk of size 1096, which is longer than the specified 1024\n",
      "Created a chunk of size 5866, which is longer than the specified 1024\n",
      "Created a chunk of size 1600, which is longer than the specified 1024\n"
     ]
    }
   ],
   "source": [
    "for file in files:\n",
    "    if (file != \".DS_Store\"):\n",
    "        with open(f\"./data/{file}\") as f:\n",
    "            file_text = f.read()\n",
    "        \n",
    "        text_splitter = CharacterTextSplitter.from_tiktoken_encoder(\n",
    "            encoding_name=\"cl100k_base\", chunk_size=1024, chunk_overlap=256, \n",
    "        )\n",
    "        texts = text_splitter.split_text(file_text)\n",
    "        for i, chunked_text in enumerate(texts):\n",
    "            if (len(chunked_text) < 10000):\n",
    "                name =  \"Joe Biden tweeted: \" if file == \"JoeBiden.txt\" else \"Donald Trump tweeted: \"\n",
    "                file_texts.append(Document(page_content=name + chunked_text, \n",
    "                    metadata={\"twitter_user\": file.split(\".\")[0], \"chunk_num\": i}))\n",
    "                # file_texts.append(Document(page_content=chunked_text, \n",
    "                #     metadata={\"twitter_user\": file.split(\".\")[0], \"chunk_num\": i}))"
   ]
  },
  {
   "cell_type": "code",
   "execution_count": 63,
   "metadata": {},
   "outputs": [],
   "source": [
    "vector_store = Milvus.from_documents(\n",
    "    file_texts,\n",
    "    embedding=embeddings,\n",
    "    connection_args={\"host\": \"localhost\", \"port\": 19530},\n",
    "    collection_name=\"twitter_user\"\n",
    ")"
   ]
  },
  {
   "cell_type": "code",
   "execution_count": 64,
   "metadata": {},
   "outputs": [
    {
     "data": {
      "text/plain": [
       "Document(page_content=\"Joe Biden tweeted: content\\nRepresentatives of the people took a vote on the floor of the United States Congress to say loudly and clearly:\\n\\nLove is love. \\nRight is right.\\nJustice is justice.\\nThanks to the Inflation Reduction Act, out-of-pocket expenses for prescription drug prices will be capped at no more than $2,000 a year for Medicare recipients.\\nWhen hospitals and community centers are threatened and intimidated because they support LGBTQI+ children and families, we have to speak out. We must stop hate and violence.\\nThe American people won.\\nBig Pharma lost.\\n\\nMedicare will have the power to negotiate for lower prescription drug prices.\\nWe are making the largest investment ever in combating the climate crisis through the Inflation Reduction Act.\\nWe’re building an economy from the bottom up and the middle out. \\n\\nAn economy with good jobs and good wages for the long run.\\nI had some MAJOR ANNOUNCEMENTS the last couple of weeks, too…\\n\\n✔️ Inflation’s easing\\n✔️ I just signed the Respect for Marriage Act\\n✔️ We brought Brittney Griner home\\n✔️ Gas prices are lower than a year ago\\n✔️ 10,000 new high-paying jobs in Arizona\\nThe Respect for Marriage Act is about being true to the best of the soul of America—decency, dignity, and love.\\nhttps://t.co/ftYi8vYR5R\\nTen years ago, I said marriage is about a simple proposition: \\n\\nWho do you love? \\nWill you be loyal to the person you love?\\n\\nThe Respect for Marriage Act recognizes that everyone should have the right to answer those questions for themselves, without government interference.\\nStarting January 1, seniors with diabetes on Medicare are going to pay no more than $35 a month for their insulin prescription. \\n\\nThat's genuine savings for seniors. This matters to many families with loved ones who have diabetes and rely on insulin to survive.\\nToday is a good day. https://t.co/wOFfv6RUwX\\nToday, I signed the Respect for Marriage Act into law. \\n\\nWe are reaffirming a fundamental truth: Love is love, and Americans should have the right to marry the person they love.\\nSome welcome news on the economic front. https://t.co/xii4FwC4Hf\\nThe Respect for Marriage Act will safeguard the rights and protections to which LGBTQ+ and interracial couples and their children are entitled. \\n\\nIt will also ensure that LGBTQ+ youth will grow up knowing that they can lead full, happy lives and build families of their own. https://t.co/pa9xQbNMKJ\\nFor the first time since 1934, every single senator in a sitting president's party won reelection in a midterm—plus, Pennsylvania elected @JohnFetterman.\\n\\nLooking forward to working together to deliver for the American people in the new year. https://t.co/mlZtXeDwJi\\nThe “Butch-Lewis Act” in the American Rescue Plan allowed us to cover over 1,000 employers and 350,000 union workers and retirees facing benefit cuts of up to 60% starting in the next few years if we hadn’t acted.\\nThe American Rescue Plan helped keep multi-employer pension plans for union workers and retirees solvent for decades to come. \\n\\nThis week, we announced our plan to prevent drastic cuts to workers’ hard-earned pension benefits that were scheduled to occur in the next few years.\\nBy including the “Butch-Lewis Act” in the American Rescue Plan, we shored up the pension plans for millions of union workers. It represents the most significant investment in pension security for union workers and retirees in the past 50 years.\\nThe United States is a top destination for companies across the globe looking to make investments because we have a world-class, highly skilled, committed workforce.\\nWe’re strengthening American manufacturing by creating 750,000 manufacturing jobs since I became president.\\nGeorgia, today is Election Day—and the eyes of the nation are on you.\\n\\nHead to the polls and help send @ReverendWarnock back to the U.S. Senate. https://t.co/1Y1bE3E02P\\nI was excited to join IBEW workers in Boston to phone bank for @ReverendWarnock.\\nWe need all hands on deck to get out the vote. Join us: https://t.co/3LRrPRIikF https://t.co/nARa1WTYAs\\nToday, we learned that the economy added 263,000 jobs in November. \\n\\nWe’ve now created 10.5 million jobs since I took office, the unemployment rate remains near a 50-year low, and wages for working families have gone up.\\nToday is the last day to vote early ahead of next Tuesday’s Georgia Senate runoff election.\", metadata={'twitter_user': 'JoeBiden', 'chunk_num': 0})"
      ]
     },
     "execution_count": 64,
     "metadata": {},
     "output_type": "execute_result"
    }
   ],
   "source": [
    "file_texts[0]"
   ]
  },
  {
   "cell_type": "code",
   "execution_count": 65,
   "metadata": {},
   "outputs": [],
   "source": [
    "retriever = vector_store.as_retriever()"
   ]
  },
  {
   "cell_type": "code",
   "execution_count": 66,
   "metadata": {},
   "outputs": [],
   "source": [
    "template = \"\"\"Answer the question based only on the following context:\n",
    "{context}\n",
    "\n",
    "Question: {question}\n",
    "\"\"\"\n",
    "prompt = PromptTemplate.from_template(template)"
   ]
  },
  {
   "cell_type": "code",
   "execution_count": 67,
   "metadata": {},
   "outputs": [],
   "source": [
    "from langchain_core.runnables import RunnablePassthrough\n",
    "from langchain_core.output_parsers import StrOutputParser\n",
    "chain = (\n",
    "    {\"context\": retriever, \"question\": RunnablePassthrough()}\n",
    "    | prompt\n",
    "    | llm\n",
    "    | StrOutputParser()\n",
    ")"
   ]
  },
  {
   "cell_type": "code",
   "execution_count": 68,
   "metadata": {},
   "outputs": [
    {
     "data": {
      "text/plain": [
       "\" Based on the provided context, Donald Trump's Twitter posts often contain attacks on his opponents, claims of his success, and criticisms of policies he disagrees with. He is also criticized in some of Joe Biden's tweets for not releasing his tax returns, having no moral compass, and undermining registered apprenticeships. Trump is also accused of representing an existential threat to the future of the country and being a threat to national security.\""
      ]
     },
     "execution_count": 68,
     "metadata": {},
     "output_type": "execute_result"
    }
   ],
   "source": [
    "chain.invoke(\"What kind of twitter post does donald trump post\")"
   ]
  }
 ],
 "metadata": {
  "kernelspec": {
   "display_name": "Python 3 (ipykernel)",
   "language": "python",
   "name": "python3"
  },
  "language_info": {
   "codemirror_mode": {
    "name": "ipython",
    "version": 3
   },
   "file_extension": ".py",
   "mimetype": "text/x-python",
   "name": "python",
   "nbconvert_exporter": "python",
   "pygments_lexer": "ipython3",
   "version": "3.11.8"
  }
 },
 "nbformat": 4,
 "nbformat_minor": 4
}
