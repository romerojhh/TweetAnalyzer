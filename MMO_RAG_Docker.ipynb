{
 "cells": [
  {
   "cell_type": "code",
   "execution_count": null,
   "metadata": {},
   "outputs": [],
   "source": [
    "# ! pip install pymilvus milvus langchain sentence-transformers tiktoken octoai-sdk snscrape streamlit\n",
    "# docker compose up -d"
   ]
  },
  {
   "cell_type": "code",
   "execution_count": null,
   "metadata": {},
   "outputs": [],
   "source": [
    "from langchain.chains import LLMChain\n",
    "from langchain.prompts import PromptTemplate\n",
    "from langchain_community.llms.octoai_endpoint import OctoAIEndpoint"
   ]
  },
  {
   "cell_type": "code",
   "execution_count": null,
   "metadata": {},
   "outputs": [],
   "source": [
    "from dotenv import load_dotenv\n",
    "import os\n",
    "\n",
    "load_dotenv()\n",
    "\n",
    "OCTOAI_API_TOKEN = os.environ.get(\"OCTOAI_API_TOKEN\")\n",
    "\n",
    "os.environ[\"OCTOAI_API_TOKEN\"] = os.getenv(\"OCTOAI_API_TOKEN\")"
   ]
  },
  {
   "cell_type": "code",
   "execution_count": null,
   "metadata": {},
   "outputs": [],
   "source": [
    "llm = OctoAIEndpoint(\n",
    "    octoai_api_token=os.getenv(\"OCTOAI_API_TOKEN\"),\n",
    "    endpoint_url=\"https://text.octoai.run/v1/chat/completions\",\n",
    "    model_kwargs={\n",
    "        \"model\": \"nous-hermes-2-mixtral-8x7b-dpo-fp16\",\n",
    "        \"max_tokens\": 4000,\n",
    "        \"presence_penalty\": 0,\n",
    "        \"temperature\": 0.1,\n",
    "        \"top_p\": 0.92,\n",
    "        \"messages\": [\n",
    "            {\n",
    "                \"role\": \"system\",\n",
    "                \"content\": \"You are a helpful twitter analyzer assistant. You will be given a twitter account tweet to analyze based on user prompt. Keep your responses limited to one short paragraph if possible.\",\n",
    "            },\n",
    "        ],\n",
    "    },\n",
    ")"
   ]
  },
  {
   "cell_type": "code",
   "execution_count": null,
   "metadata": {},
   "outputs": [],
   "source": [
    "from langchain_community.embeddings import OctoAIEmbeddings\n",
    "from langchain_community.vectorstores import Milvus, Zilliz"
   ]
  },
  {
   "cell_type": "code",
   "execution_count": null,
   "metadata": {},
   "outputs": [],
   "source": [
    "embeddings = OctoAIEmbeddings(endpoint_url=\"https://text.octoai.run/v1/embeddings\")"
   ]
  },
  {
   "cell_type": "code",
   "execution_count": null,
   "metadata": {},
   "outputs": [],
   "source": [
    "from langchain.text_splitter import CharacterTextSplitter\n",
    "from langchain.schema import Document\n",
    "import os"
   ]
  },
  {
   "cell_type": "code",
   "execution_count": null,
   "metadata": {},
   "outputs": [],
   "source": [
    "from langchain.document_loaders.csv_loader import CSVLoader\n",
    "\n",
    "loader = CSVLoader(file_path='newData/tweetAggregated.csv',metadata_columns=[\"tweet_author\", \"like_count\"])\n",
    "clean_data = loader.load()\n",
    "\n",
    "with open('newData/cleaned_data.txt', 'w', encoding='utf-8') as f:\n",
    "    f.write(str(clean_data))"
   ]
  },
  {
   "cell_type": "code",
   "execution_count": null,
   "metadata": {},
   "outputs": [],
   "source": [
    "print(\"ZILLIZ_ENDPOINT = \" + os.getenv(\"ZILLIZ_ENDPOINT\"))\n",
    "print(\"ZILLIZ_API_TOKEN = \" + os.getenv(\"ZILLIZ_API_TOKEN\"))\n",
    "\n",
    "vector_store = Zilliz.from_documents(\n",
    "    clean_data,\n",
    "    embedding=embeddings,\n",
    "    connection_args={\"uri\": os.getenv(\"ZILLIZ_ENDPOINT\"), \"token\": os.getenv(\"ZILLIZ_API_TOKEN\")},\n",
    "    collection_name=\"donald_biden_tweets\",\n",
    "    auto_id=True\n",
    ")"
   ]
  },
  {
   "cell_type": "code",
   "execution_count": null,
   "metadata": {},
   "outputs": [],
   "source": [
    "retriever = vector_store.as_retriever()"
   ]
  },
  {
   "cell_type": "code",
   "execution_count": null,
   "metadata": {},
   "outputs": [],
   "source": [
    "vst_new = Zilliz.from_documents(\n",
    "    clean_data,\n",
    "    collection_name=\"biden_tweets\",\n",
    "    embedding=embeddings,\n",
    "    connection_args={\"uri\": os.getenv(\"ZILLIZ_ENDPOINT\"), \"token\": os.getenv(\"ZILLIZ_API_TOKEN\")},\n",
    "    auto_id=True\n",
    ")\n",
    "\n",
    "retriever_new = vst_new.as_retriever()\n",
    "print(retriever_new)"
   ]
  },
  {
   "cell_type": "code",
   "execution_count": null,
   "metadata": {},
   "outputs": [],
   "source": [
    "# Example of getting already initialized vector stores\n",
    "\n",
    "asd = Zilliz(\n",
    "    collection_name=\"donald_biden_tweets\",\n",
    "    embedding_function=embeddings,\n",
    "    connection_args={\"uri\": os.getenv(\"ZILLIZ_ENDPOINT\"), \"token\": os.getenv(\"ZILLIZ_API_TOKEN\")},\n",
    ")"
   ]
  },
  {
   "cell_type": "code",
   "execution_count": null,
   "metadata": {},
   "outputs": [],
   "source": [
    "template = \"\"\"Answer the question based only on the following user provided data, the data consist of tweets from a single tweet author:\n",
    "{context}\n",
    "\n",
    "Question: {question}\n",
    "\"\"\"\n",
    "prompt = PromptTemplate.from_template(template)"
   ]
  },
  {
   "cell_type": "code",
   "execution_count": null,
   "metadata": {},
   "outputs": [],
   "source": [
    "from langchain_core.runnables import RunnablePassthrough\n",
    "from langchain_core.output_parsers import StrOutputParser\n",
    "chain = (\n",
    "    {\"context\": asd.as_retriever(), \"question\": RunnablePassthrough()}\n",
    "    | prompt\n",
    "    | llm\n",
    "    | StrOutputParser()\n",
    ")"
   ]
  },
  {
   "cell_type": "code",
   "execution_count": null,
   "metadata": {},
   "outputs": [],
   "source": [
    "chain.invoke(\"What is the most liked tweet from biden?\")"
   ]
  }
 ],
 "metadata": {
  "kernelspec": {
   "display_name": "Python 3 (ipykernel)",
   "language": "python",
   "name": "python3"
  },
  "language_info": {
   "codemirror_mode": {
    "name": "ipython",
    "version": 3
   },
   "file_extension": ".py",
   "mimetype": "text/x-python",
   "name": "python",
   "nbconvert_exporter": "python",
   "pygments_lexer": "ipython3",
   "version": "3.11.8"
  }
 },
 "nbformat": 4,
 "nbformat_minor": 4
}
